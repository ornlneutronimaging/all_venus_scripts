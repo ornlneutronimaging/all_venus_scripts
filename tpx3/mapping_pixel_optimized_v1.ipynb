{
 "cells": [
  {
   "cell_type": "code",
   "execution_count": null,
   "id": "b8254290",
   "metadata": {},
   "outputs": [
    {
     "name": "stdout",
     "output_type": "stream",
     "text": [
      "number_of_pixels_per_chip = 65536\n"
     ]
    }
   ],
   "source": [
    "import os\n",
    "import numpy as np\n",
    "import h5py\n",
    "import matplotlib.pyplot as plt\n",
    "\n",
    "nexus_file = \"/SNS/VENUS/IPTS-34969/nexus/VENUS_7703.nxs.h5\"\n",
    "\n",
    "with h5py.File(nexus_file, 'r') as hdf5_data:\n",
    "    event_time_offset_original = hdf5_data['entry']['bank100_events']['event_time_offset'][:]\n",
    "    event_id_original = hdf5_data['entry']['bank100_events']['event_id'][:]\n",
    "\n",
    "offset_value = 1000000  # Offset value\n",
    "event_id_original -= offset_value\n",
    "\n",
    "# DEBUGGING: Work with only the first n events\n",
    "n_events = min(len(event_time_offset_original), 300000000)\n",
    "event_time_offset = event_time_offset_original[:n_events]\n",
    "event_id = event_id_original[:n_events]\n",
    "\n",
    "hist, bin_edges = np.histogram(event_time_offset, bins=1000, range=(0, 16667))\n",
    "\n",
    "number_of_pixels_per_chip = int(512 * 512 / 4)\n",
    "print(f\"number_of_pixels_per_chip = {number_of_pixels_per_chip}\")\n",
    "\n",
    "# Define bank ranges\n",
    "banks = {\n",
    "    0: {'from': 0, 'to': number_of_pixels_per_chip - 1},\n",
    "    1: {'from': number_of_pixels_per_chip, 'to': 2 * number_of_pixels_per_chip - 1},\n",
    "    2: {'from': 2 * number_of_pixels_per_chip, 'to': 3 * number_of_pixels_per_chip - 1},\n",
    "    3: {'from': 3 * number_of_pixels_per_chip, 'to': 4 * number_of_pixels_per_chip - 1}\n",
    "}\n",
    "\n",
    "# Determine bank IDs for all event IDs\n",
    "list_of_banks_pixelid_belongs_to = np.zeros_like(event_id, dtype=np.uint8)\n",
    "list_of_banks_pixelid_belongs_to[event_id < banks[0]['to']] = 0\n",
    "list_of_banks_pixelid_belongs_to[(event_id >= banks[1]['from']) & (event_id < banks[1]['to'])] = 1\n",
    "list_of_banks_pixelid_belongs_to[(event_id >= banks[2]['from']) & (event_id < banks[2]['to'])] = 2\n",
    "list_of_banks_pixelid_belongs_to[event_id >= banks[3]['from']] = 3\n",
    "\n",
    "# Vectorized mapping functions\n",
    "def map_pixels_to_coordinates(event_id, bank_id):\n",
    "    pixel_id = event_id.copy()\n",
    "    row, col = None, None\n",
    "\n",
    "    # if bank_id == 0:\n",
    "    #     row = pixel_id % 256\n",
    "    #     col = 255 - (pixel_id // 256) + 256\n",
    "    # elif bank_id == 1:\n",
    "    #     pixel_id -= 256 * 256\n",
    "    #     row = pixel_id % 256\n",
    "    #     col = 255 - (pixel_id // 256)\n",
    "    if bank_id == 2:\n",
    "        pixel_id -= 2 * 256 * 256\n",
    "        row = 511 - (pixel_id % 256)\n",
    "        col = pixel_id // 256\n",
    "    # elif bank_id == 3:\n",
    "    #     pixel_id -= 3 * 256 * 256\n",
    "    #     row = 511 - (pixel_id % 256)\n",
    "    #     col = (pixel_id // 256) + 256\n",
    "\n",
    "    return row, col\n",
    "\n",
    "# Initialize the full image\n",
    "full_image = np.zeros((512, 512), dtype=np.int32)\n",
    "\n",
    "# Vectorized processing for each bank\n",
    "for bank_id in range(4):\n",
    "    mask = list_of_banks_pixelid_belongs_to == bank_id\n",
    "    bank_event_ids = event_id[mask]\n",
    "    rows, cols = map_pixels_to_coordinates(bank_event_ids, bank_id)\n",
    "    np.add.at(full_image, (rows, cols), 1)"
   ]
  },
  {
   "cell_type": "code",
   "execution_count": 6,
   "id": "091deb50",
   "metadata": {},
   "outputs": [
    {
     "data": {
      "text/plain": [
       "<matplotlib.image.AxesImage at 0x7f3edadd6f20>"
      ]
     },
     "execution_count": 6,
     "metadata": {},
     "output_type": "execute_result"
    },
    {
     "data": {
      "image/png": "[encoded data removed]",
      "text/plain": [
       "<Figure size 1000x1000 with 1 Axes>"
      ]
     },
     "metadata": {},
     "output_type": "display_data"
    }
   ],
   "source": [
    "plt.figure(0, figsize=(10,10))\n",
    "plt.imshow(full_image, cmap='viridis', interpolation='nearest')"
   ]
  },
  {
   "cell_type": "code",
   "execution_count": null,
   "id": "9834aeb9",
   "metadata": {},
   "outputs": [],
   "source": []
  }
 ],
 "metadata": {
  "kernelspec": {
   "display_name": "python310",
   "language": "python",
   "name": "python3"
  },
  "language_info": {
   "codemirror_mode": {
    "name": "ipython",
    "version": 3
   },
   "file_extension": ".py",
   "mimetype": "text/x-python",
   "name": "python",
   "nbconvert_exporter": "python",
   "pygments_lexer": "ipython3",
   "version": "3.10.8"
  }
 },
 "nbformat": 4,
 "nbformat_minor": 5
}
